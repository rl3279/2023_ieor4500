{
 "cells": [
  {
   "cell_type": "markdown",
   "metadata": {},
   "source": [
    "# Intuition\n",
    "\n",
    "We are provided with the information that a certain interval $0\\leq t_1 < t_2 \\leq T$ is corrupted in terms of the covariance structure of the data. This implies that there are *two* distinct points of regime change exactly at $t_1$ and $t_2$: from the regular state to corrupted state at $t_1$, and back to the regular state from the corrupted state at $t_2$.\n",
    "\n",
    "In the context of principal component analysis, consider that when the data feed enters corrupted state at $t_1$, the explained variance ratio/eigenvalues of the first few principal components should change in a drastic fashion. From $t_1$ to $t_2$, although we do not know exactly the behavior of the data in the corrupted state, we would expect no *drastic* change. Again at $t_2$, the EVR/eigenvalues should shift *drastically*, indicating the change back to regular state. \n",
    "\n",
    "Hence, to solve for $t_1$, $t_2$, it suffices to define some metric that captures the changes in first few EVR/eigenvalues, and take the biggest 2 changes as the candidates for $t_1$ and $t_2$."
   ]
  },
  {
   "cell_type": "code",
   "execution_count": 1,
   "metadata": {},
   "outputs": [],
   "source": [
    "import numpy as np\n",
    "import pandas as pd\n",
    "import matplotlib.pyplot as plt\n",
    "import csv\n",
    "\n",
    "def pca_power(matrix, n, max_iter=1000, tolerance=1e-10):\n",
    "    it = 0\n",
    "    oldnormw = 0.\n",
    "    v = np.random.random(n)\n",
    "    w = np.zeros(n)\n",
    "    \n",
    "    while it < max_iter:\n",
    "        w = matrix.dot(v)\n",
    "        normw = (np.inner(w,w))**.5\n",
    "        v = w/normw\n",
    "        if np.abs(normw - oldnormw)/normw < tolerance:\n",
    "            break\n",
    "        oldnormw = normw\n",
    "        it += 1\n",
    "    return normw, v\n",
    "\n",
    "def pca_power_full(matrix, n, max_iter=1000, tolerance=1e-10, n_components=10):\n",
    "    vals = np.zeros(n_components)\n",
    "    vecs = np.zeros((n_components, n))\n",
    "    for i in range(n_components):\n",
    "        val, vec = pca_power(matrix, n, max_iter, tolerance)\n",
    "        matrix -= val * np.outer(vec, vec)\n",
    "        vals[i] = val\n",
    "        np.copyto(vecs[i], vec)\n",
    "    return vals, vecs   \n",
    "\n",
    "def read_data(data_dir:str = \"../data/\", filename=\"polluteddeltas.csv\") -> np.ndarray:\n",
    "    filename = data_dir + filename\n",
    "    f = open(filename,'r')\n",
    "    csvf = csv.reader(f)\n",
    "    polluteddeltalist = list(csvf)\n",
    "    f.close() \n",
    "    plist = np.array(polluteddeltalist)\n",
    "    polluteddata = plist.astype(float) \n",
    "    return polluteddata"
   ]
  },
  {
   "cell_type": "code",
   "execution_count": 2,
   "metadata": {},
   "outputs": [
    {
     "data": {
      "text/plain": [
       "(1709, 30)"
      ]
     },
     "execution_count": 2,
     "metadata": {},
     "output_type": "execute_result"
    }
   ],
   "source": [
    "d = read_data()[:,1:]\n",
    "d.shape"
   ]
  },
  {
   "cell_type": "markdown",
   "metadata": {},
   "source": [
    "# Heuristics"
   ]
  },
  {
   "cell_type": "code",
   "execution_count": 19,
   "metadata": {},
   "outputs": [
    {
     "name": "stdout",
     "output_type": "stream",
     "text": [
      "Explained variance ratio:\n",
      "[8.33667549e-01 8.27616090e-02 2.69956589e-02 1.50888785e-02\n",
      " 9.53845342e-03 6.44772351e-03 4.75713392e-03 3.86143962e-03\n",
      " 2.83758326e-03 1.88153622e-03 1.56894934e-03 1.38314769e-03\n",
      " 1.19946798e-03 9.61661007e-04 8.42107504e-04 7.90898497e-04\n",
      " 7.28218084e-04 5.90822047e-04 5.44982339e-04 5.07637406e-04\n",
      " 4.60027936e-04 4.40135097e-04 3.89222687e-04 3.56094758e-04\n",
      " 3.37163409e-04 3.07189516e-04 2.90735606e-04 2.38327797e-04\n",
      " 2.25645554e-04 1.72877207e-13]\n",
      "\n",
      "Leading eigenvalue:\n",
      "2279.6599323503146\n"
     ]
    },
    {
     "data": {
      "text/plain": [
       "[<matplotlib.lines.Line2D at 0x27276677b50>]"
      ]
     },
     "execution_count": 19,
     "metadata": {},
     "output_type": "execute_result"
    },
    {
     "data": {
      "image/png": "[encoded data removed]",
      "text/plain": [
       "<Figure size 720x720 with 1 Axes>"
      ]
     },
     "metadata": {
      "needs_background": "light"
     },
     "output_type": "display_data"
    }
   ],
   "source": [
    "# pca = PCA(10)\n",
    "cov = np.cov(d[:200].T)\n",
    "vals, vecs = pca_power_full(cov, d.shape[1], n_components=30)\n",
    "\n",
    "print(\"Explained variance ratio:\")\n",
    "evr = vals / vals.sum()\n",
    "print(evr)\n",
    "print()\n",
    "print(\"Leading eigenvalue:\")\n",
    "eig1 = vals[0]\n",
    "print(eig1)\n",
    "fig, ax = plt.subplots(1,1,figsize = [10, 10])\n",
    "ax.plot(evr)"
   ]
  },
  {
   "cell_type": "code",
   "execution_count": 6,
   "metadata": {},
   "outputs": [],
   "source": [
    "n_components = 1\n",
    "T, k = d.shape\n",
    "w = 500\n",
    "dt = 1\n",
    "\n",
    "eigs = np.zeros((T, n_components))\n",
    "evrs = np.zeros((T, n_components))\n",
    "vecs = np.zeros((T, k))\n",
    "\n",
    "for t in range(0, T-w, dt):\n",
    "    # pca.fit(np.cov(d[t:t+w]))\n",
    "\n",
    "    # break\n",
    "    cov = np.cov(d[t:t+w].T)\n",
    "    eigs[t], vecs[t] = pca_power_full(cov, k, n_components=n_components)\n",
    "\n",
    "\n",
    "    "
   ]
  },
  {
   "cell_type": "markdown",
   "metadata": {},
   "source": [
    "# Leading Eigenvector Inner Product Tracer"
   ]
  },
  {
   "cell_type": "code",
   "execution_count": 13,
   "metadata": {},
   "outputs": [],
   "source": [
    "key = 57\n",
    "\n",
    "innerprods = np.zeros(T-w)\n",
    "for i in range(0, T-w, dt):\n",
    "    innerprods[i] = np.abs(\n",
    "        np.inner(vecs[key], vecs[i])\n",
    "    )"
   ]
  },
  {
   "cell_type": "code",
   "execution_count": 14,
   "metadata": {},
   "outputs": [
    {
     "data": {
      "text/plain": [
       "[<matplotlib.lines.Line2D at 0x272725fc0a0>]"
      ]
     },
     "execution_count": 14,
     "metadata": {},
     "output_type": "execute_result"
    },
    {
     "data": {
      "image/png": "[encoded data removed]",
      "text/plain": [
       "<Figure size 720x504 with 2 Axes>"
      ]
     },
     "metadata": {
      "needs_background": "light"
     },
     "output_type": "display_data"
    }
   ],
   "source": [
    "fig, ax = plt.subplots(2,1,figsize = [10,7], sharex=True)\n",
    "\n",
    "ax[0].plot(np.arange(w, T, dt), eigs[eigs!=0])\n",
    "ax[1].plot(np.arange(w, T, dt), innerprods)\n"
   ]
  },
  {
   "cell_type": "code",
   "execution_count": 15,
   "metadata": {},
   "outputs": [
    {
     "name": "stdout",
     "output_type": "stream",
     "text": [
      "t1: 745\n",
      "t2: 1709\n"
     ]
    }
   ],
   "source": [
    "baseline_1 = innerprods[:200]\n",
    "baseline_2 = innerprods[:-200]\n",
    "k = 2.67\n",
    "thresh_1 = baseline_1.mean() - k * baseline_1.std()\n",
    "thresh_2 = baseline_2.mean() - k * baseline_2.std()\n",
    "print(\"t1:\", (innerprods<thresh_1).argmax() + 500)\n",
    "print(\"t2:\", T - (innerprods[::-1] < thresh_2).argmax())"
   ]
  }
 ],
 "metadata": {
  "kernelspec": {
   "display_name": "DL",
   "language": "python",
   "name": "python3"
  },
  "language_info": {
   "codemirror_mode": {
    "name": "ipython",
    "version": 3
   },
   "file_extension": ".py",
   "mimetype": "text/x-python",
   "name": "python",
   "nbconvert_exporter": "python",
   "pygments_lexer": "ipython3",
   "version": "3.9.13"
  }
 },
 "nbformat": 4,
 "nbformat_minor": 2
}
