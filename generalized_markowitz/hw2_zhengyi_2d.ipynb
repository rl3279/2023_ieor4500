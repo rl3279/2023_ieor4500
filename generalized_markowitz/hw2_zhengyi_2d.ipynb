{
 "cells": [
  {
   "cell_type": "markdown",
   "metadata": {},
   "source": [
    "# <span style='color:red'>Project 2.  Due October 23</span>"
   ]
  },
  {
   "cell_type": "code",
   "execution_count": 2,
   "metadata": {
    "scrolled": true
   },
   "outputs": [
    {
     "data": {
      "text/html": [
       "<style>.container { width: 90% !important; }</style>"
      ],
      "text/plain": [
       "<IPython.core.display.HTML object>"
      ]
     },
     "metadata": {},
     "output_type": "display_data"
    }
   ],
   "source": [
    "from IPython.display import display, HTML\n",
    "display(HTML(\"<style>.container { width: 90% !important; }</style>\"))"
   ]
  },
  {
   "cell_type": "code",
   "execution_count": 3,
   "metadata": {},
   "outputs": [],
   "source": [
    "import csv\n",
    "import sys\n",
    "import scipy.io\n",
    "import numpy as np\n",
    "import pandas as pd\n",
    "import math\n",
    "import datetime\n",
    "import time\n",
    "import matplotlib.pyplot as plt\n",
    "%matplotlib inline"
   ]
  },
  {
   "cell_type": "markdown",
   "metadata": {},
   "source": [
    "##### We will have data involving $n$ assets, and use the first $T$ days of the data to compute the portfolio.\n",
    "##### The computation will produce a weight $x_i$ for each asset $i = 1,...,n$, which could be long or short.\n",
    "##### We assume that on each day, a position is taken at the open, and closed at noon.  So we define:\n",
    "$$ p^o_{j,t} = \\ \\text{price of asset $j$ on day $t$ at the open}$$\n",
    "$$ p^1_{j,t} = \\ \\text{price of asset $j$ on day $t$ at noon}$$\n",
    "$$ r_{j,t} =  \\ \\frac{p^1_{j,t} - p^o_{j,t}}{p^o_{j,t}} = \\ \\text{return earned by asset $j$ on day $t$.}$$\n",
    "$$ \\bar r_j = \\ \\frac{1}{T} \\sum_{t = 1}^T r_{j,t} = \\ \\text{average return earned by asset $j$.}$$"
   ]
  },
  {
   "cell_type": "markdown",
   "metadata": {},
   "source": [
    "### In this project we develop a first-order algorithm to construct a portfolio using intraday data."
   ]
  },
  {
   "cell_type": "markdown",
   "metadata": {},
   "source": [
    "#### The optimization problem to solve depends on two parameters: $\\theta \\ge 0$ and $\\pi > 0$.\n",
    "####\n",
    "$$ \\text{minimize} \\ \\left(-\\sum_{j = 1}^n \\bar r_j x_j\\right) \\ + \\ \\theta \\left( \\frac{1}{T} \\sum_{t = 1}^{T}\\left[\\sum_{j = 1}^n (r_{j,t} -  \\bar r_j)x_j\\right]^\\pi\\right)^{1/\\pi}$$\n",
    "#### \n",
    "#### There are no constraints on the quantities $x_j$.\n",
    "#### The first sum is minus the average return earned by the portfolio.  In the second sum, the quantity inside the square brackets is the excess return earned by the portfolio on day $t$, magnified by the power $\\pi$.  The quantity $\\theta$ is a risk aversion parameter.\n",
    " "
   ]
  },
  {
   "cell_type": "markdown",
   "metadata": {},
   "source": [
    "## prepare data"
   ]
  },
  {
   "cell_type": "code",
   "execution_count": 4,
   "metadata": {},
   "outputs": [],
   "source": [
    "# extract close prices for open & noon\n",
    "def extract_price_open_noon(stock):\n",
    "    filename = f\"../data/intraday/{stock}.csv\"\n",
    "    df = pd.read_csv(filename, low_memory=False) # use pd.read_csv because need to use datetime\n",
    "    df = df.iloc[3:, :].reset_index(drop=True) # remove headers, reset index\n",
    "    numactual = df.iloc[:, 2].astype(float).isna().argmax() \n",
    "    df = df.iloc[:numactual, [0,2]] # only read valid data\n",
    "\n",
    "    df.loc[0,\"BarTp\"] = df.loc[1,\"BarTp\"].replace(\"31\", \"30\") # handle \"#NAME\" at the beginning\n",
    "    df[\"BarTp\"] = pd.to_datetime(df[\"BarTp\"]).apply(lambda x: datetime.datetime.strftime(x, \"%Y-%m-%d %H:%M:%S\")) # convert datetime to str\n",
    "    dates_list = np.unique(df[\"BarTp\"].apply(lambda x: x[:10])) # list of all dates\n",
    "    \n",
    "    # select open and noon for each day, throw out dates with missing values\n",
    "    dfs = []\n",
    "    for date in dates_list: \n",
    "        df_date = df.loc[(df[\"BarTp\"]==date+\" 09:30:00\") | (df[\"BarTp\"]==date+\" 12:00:00\")]\n",
    "        if len( df_date )==2: \n",
    "            dfs.append(df_date)\n",
    "        else:\n",
    "            print(stock, date, len(df_date))\n",
    "            continue\n",
    "    df2 = pd.concat(dfs, axis=0).reset_index(drop=True)\n",
    "    return df2\n",
    "\n",
    "def compute_ret_from_price(price):\n",
    "    return (price[:,1]-price[:,0])/price[:,0]\n",
    "\n",
    "def get_ret_full(stock_lst):\n",
    "    # select_common_dates\n",
    "    df_lst = [extract_price_open_noon(stock) for stock in stock_lst]\n",
    "    from functools import reduce\n",
    "    df_common = reduce(lambda x,y: pd.merge(x,y, on='BarTp', how='inner'), df_lst)\n",
    "    df_common.columns=['BarTp']+stock_lst\n",
    "    df_common.set_index('BarTp', inplace=True)\n",
    "    # compute ret from price\n",
    "    prices = df_common.astype(float).values\n",
    "    ret_full = np.vstack([compute_ret_from_price(prices[:,j].reshape(-1,2)) for j in range(len(stock_lst))])\n",
    "    return ret_full.transpose()"
   ]
  },
  {
   "cell_type": "code",
   "execution_count": 5,
   "metadata": {
    "scrolled": false
   },
   "outputs": [
    {
     "name": "stdout",
     "output_type": "stream",
     "text": [
      "AMZN 2021-04-20 1\n",
      "AMZN 2021-06-14 1\n",
      "CPU times: user 7.64 s, sys: 205 ms, total: 7.84 s\n",
      "Wall time: 7.86 s\n"
     ]
    }
   ],
   "source": [
    "%%time\n",
    "ret_full = get_ret_full(['AMZN','NFLX','TSLA'])"
   ]
  },
  {
   "cell_type": "code",
   "execution_count": 6,
   "metadata": {},
   "outputs": [
    {
     "data": {
      "text/plain": [
       "(111, 3)"
      ]
     },
     "execution_count": 6,
     "metadata": {},
     "output_type": "execute_result"
    }
   ],
   "source": [
    "ret_full.shape"
   ]
  },
  {
   "cell_type": "code",
   "execution_count": 7,
   "metadata": {},
   "outputs": [
    {
     "data": {
      "text/plain": [
       "array([-0.00025796, -0.00034732, -0.00192305])"
      ]
     },
     "execution_count": 7,
     "metadata": {},
     "output_type": "execute_result"
    }
   ],
   "source": [
    "ret_bar = np.mean(ret_full[:100, :], axis=0)\n",
    "ret_bar"
   ]
  },
  {
   "cell_type": "markdown",
   "metadata": {},
   "source": [
    "### <span style='color:red'> Task 1. Develop a first-order method to address this computational problem.</span>\n",
    "#### Your method should work with values of $T$ at least $100$. Use the data we provide for AMZN, NFLX, TSLA, i.e., $n = 3$. \n",
    "#### Make sure your code works with $\\pi = 0.5, 2, 4, 6$, and $\\theta = 0.1, 10, 1000, 10^5, 10^6$."
   ]
  },
  {
   "cell_type": "code",
   "execution_count": 8,
   "metadata": {},
   "outputs": [],
   "source": [
    "def eval_func(theta, pi, ret, x):\n",
    "    # ret: (T,3), x: (3,)\n",
    "    ret_bar = np.mean(ret, axis=0) # ret_bar: (3,)\n",
    "    excess_ret = ret-ret_bar # excess_ret: (T,3)\n",
    "    portfolio_excess_ret = excess_ret.dot(x) # portfolio_excess_ret: (T,)\n",
    "    \n",
    "    f1 = -ret_bar.dot(x)\n",
    "    f2 = theta*np.mean(portfolio_excess_ret**pi)**(1/pi)\n",
    "    return f1+f2\n",
    "\n",
    "def eval_func_2d(theta, pi, ret, x):\n",
    "    # ret: (T,3), x: (2,)\n",
    "    ret_bar = np.mean(ret, axis=0) # ret_bar: (3,)\n",
    "    excess_ret = ret-ret_bar # excess_ret: (T,3)\n",
    "    \n",
    "    f1 = np.array([-ret_bar[0]+ret_bar[2], -ret_bar[1]+ret_bar[2]]).dot(x)-ret_bar[2]\n",
    "    f2 = (np.vstack([excess_ret[:,0]-excess_ret[:,2], excess_ret[:,1]-excess_ret[:,2]])).T.dot(x)+excess_ret[:,2]\n",
    "    f3 = np.mean(f2**pi)**(1/pi)\n",
    "    return f1+theta*f3"
   ]
  },
  {
   "cell_type": "code",
   "execution_count": 9,
   "metadata": {},
   "outputs": [],
   "source": [
    "def eval_grad(theta, pi, ret, x):\n",
    "    # ret: (T,3)\n",
    "    # x: (3,)\n",
    "    ret_bar = np.mean(ret, axis=0) # ret_bar: (3,)\n",
    "    excess_ret = ret-ret_bar # excess_ret: (T,3)\n",
    "    portfolio_excess_ret = excess_ret.dot(x) # portfolio_excess_ret: (T,)\n",
    "    \n",
    "    g1 = -ret_bar \n",
    "    g2 = np.sum(portfolio_excess_ret**pi)**(1/pi-1)\n",
    "    g3 = np.dot(excess_ret.T, portfolio_excess_ret**(pi-1))\n",
    "    return g1+(theta/T**(1/pi))*g2*g3\n",
    "\n",
    "def eval_grad_2d(theta, pi, ret, x):\n",
    "    # ret: (T,3)\n",
    "    # x: (2,)\n",
    "    ret_bar = np.mean(ret, axis=0) # ret_bar: (3,)\n",
    "    excess_ret = ret-ret_bar # excess_ret: (T,3)\n",
    "    \n",
    "    g1 = np.array([-ret_bar[0]+ret_bar[2], -ret_bar[1]+ret_bar[2]])\n",
    "    f2 = (np.vstack([excess_ret[:,0]-excess_ret[:,2], excess_ret[:,1]-excess_ret[:,2]])).T.dot(x)+excess_ret[:,2]\n",
    "    g2 = np.sum(f2**pi)**(1/pi-1)\n",
    "    g3 = (f2**(pi-1)).dot(np.vstack([excess_ret[:,0]-excess_ret[:,2], excess_ret[:,1]-excess_ret[:,2]]).T)\n",
    "    return g1+(theta/T**(1/pi))*g2*g3"
   ]
  },
  {
   "cell_type": "code",
   "execution_count": 10,
   "metadata": {
    "scrolled": true
   },
   "outputs": [],
   "source": [
    "T = 100\n",
    "theta = 10\n",
    "pi = 2\n",
    "np.random.seed(123)\n",
    "ret_randn = np.random.randn(T,3)\n",
    "\n",
    "ret_bar = np.mean(ret_randn, axis=0) # ret_bar: (3,)\n",
    "excess_ret = ret_randn-ret_bar # excess_ret: (T,3)"
   ]
  },
  {
   "cell_type": "code",
   "execution_count": 10,
   "metadata": {
    "scrolled": true
   },
   "outputs": [
    {
     "data": {
      "text/plain": [
       "(6.06483137912447, 6.064831379124471)"
      ]
     },
     "execution_count": 10,
     "metadata": {},
     "output_type": "execute_result"
    }
   ],
   "source": [
    "eval_func(10, 2, ret_randn, np.array([1/3]*3)), eval_func_2d(10, 2, ret_randn, np.array([1/3]*2))"
   ]
  },
  {
   "cell_type": "code",
   "execution_count": 11,
   "metadata": {},
   "outputs": [
    {
     "data": {
      "text/plain": [
       "(array([4.62698217, 7.8894494 , 5.67806256]),\n",
       " array([-1.05108039,  2.21138684]))"
      ]
     },
     "execution_count": 11,
     "metadata": {},
     "output_type": "execute_result"
    }
   ],
   "source": [
    "eval_grad(10, 2, ret_randn, np.array([1/3]*3)), eval_grad_2d(10, 2, ret_randn, np.array([1/3]*2))"
   ]
  },
  {
   "cell_type": "code",
   "execution_count": 12,
   "metadata": {},
   "outputs": [],
   "source": [
    "def eval_func_abs(theta, pi, ret, x):\n",
    "    # ret: (T,n)\n",
    "    # x: (n,)\n",
    "    ret_bar = np.mean(ret, axis=0) # ret_bar: (n,)\n",
    "    excess_ret = ret-ret_bar # excess_ret: (T,n)\n",
    "    portfolio_excess_ret = np.abs(excess_ret.dot(x)) # portfolio_excess_ret: (T,)\n",
    "    \n",
    "    f1 = -ret_bar.dot(x) # f1: (n,)\n",
    "    f2 = theta*np.mean(portfolio_excess_ret**pi)**(1/pi) # f2: (n,)\n",
    "    return f1+f2"
   ]
  },
  {
   "cell_type": "code",
   "execution_count": 13,
   "metadata": {},
   "outputs": [],
   "source": [
    "def eval_grad_abs(theta, pi, ret, x):\n",
    "    # ret: (T,n)\n",
    "    # x: (n,)\n",
    "    ret_bar = np.mean(ret, axis=0) # ret_bar: (n,)\n",
    "    excess_ret = ret-ret_bar # excess_ret: (T,n)\n",
    "    portfolio_excess_ret = np.abs(excess_ret.dot(x)) # portfolio_excess_ret: (T,)\n",
    "    \n",
    "    g1 = -ret_bar \n",
    "    g2 = np.sum(portfolio_excess_ret**pi)**(1/pi-1)\n",
    "    g3 = np.dot(excess_ret.T, portfolio_excess_ret**(pi-1))\n",
    "    return g1+(theta/T**(1/pi))*g2*g3"
   ]
  },
  {
   "cell_type": "code",
   "execution_count": 14,
   "metadata": {},
   "outputs": [
    {
     "ename": "NameError",
     "evalue": "name 'x' is not defined",
     "output_type": "error",
     "traceback": [
      "\u001b[0;31m---------------------------------------------------------------------------\u001b[0m",
      "\u001b[0;31mNameError\u001b[0m                                 Traceback (most recent call last)",
      "Cell \u001b[0;32mIn[14], line 1\u001b[0m\n\u001b[0;32m----> 1\u001b[0m eval_func_abs(\u001b[38;5;241m10\u001b[39m, \u001b[38;5;241m2\u001b[39m, ret_randn, \u001b[43mx\u001b[49m), eval_grad_abs(\u001b[38;5;241m10\u001b[39m, \u001b[38;5;241m2\u001b[39m, ret_randn, x)\n",
      "\u001b[0;31mNameError\u001b[0m: name 'x' is not defined"
     ]
    }
   ],
   "source": [
    "eval_func_abs(10, 2, ret_randn, x), eval_grad_abs(10, 2, ret_randn, x)"
   ]
  },
  {
   "cell_type": "markdown",
   "metadata": {},
   "source": [
    "## backtrack"
   ]
  },
  {
   "cell_type": "code",
   "execution_count": 115,
   "metadata": {},
   "outputs": [],
   "source": [
    "def backtrack(theta, pi, ret, x, fval, grad, delta): \n",
    "    alpha = 0.5\n",
    "    beta = 0.75\n",
    "    gradtimesdelta = grad.dot(delta)\n",
    "    t = 1 \n",
    "    goon = True\n",
    "    success = False\n",
    "    while goon:\n",
    "        xnew = x+t*delta\n",
    "        fnew = eval_func_2d(theta, pi, ret, xnew)\n",
    "        target = alpha*t*gradtimesdelta \n",
    "        if fnew - fval <= target: #target means the difference that is acceptable between fnew and fval\n",
    "            goon = False\n",
    "            success = True #accept if small enough\n",
    "        else:\n",
    "            t = beta*t\n",
    "        if t < 1e-6: #1e-4:\n",
    "            if fnew < fval:\n",
    "                print('well, we will take it\\n')  # accept if t is small enough that will not make much progress\n",
    "                success = True\n",
    "            goon = False\n",
    "    return t, success"
   ]
  },
  {
   "cell_type": "code",
   "execution_count": 116,
   "metadata": {},
   "outputs": [],
   "source": [
    "def run_backtrack(theta, pi, ret, x, N):\n",
    "    xsol = np.zeros((N, len(x)))\n",
    "    fvalsol = np.zeros(N)\n",
    "    \n",
    "    converged = False\n",
    "    \n",
    "    for iteration in range(N):\n",
    "        xsol[iteration, :] = x\n",
    "        fval = eval_func_2d(theta, pi, ret, x)\n",
    "        fvalsol[iteration] = fval\n",
    "        grad = eval_grad_2d(theta, pi, ret, x)\n",
    "        \n",
    "        delta = -grad  #this is what makes it unconstrained\n",
    "\n",
    "        t, goodstep = backtrack(theta, pi, ret, x, fval, grad, delta)\n",
    "        \n",
    "        if goodstep:\n",
    "            xnew = x+t*delta\n",
    "            fnew = eval_func_2d(theta, pi, ret, xnew)\n",
    "            x = xnew\n",
    "            if np.isclose(grad, 0).all(): # g==0\n",
    "                converged = True\n",
    "                break\n",
    "            \n",
    "    print(f\"\\n*** Done at iteration {iteration}, converged {converged} with final grad={np.array2string(grad,precision=20)}, and t={t}, xnew={np.array2string(xnew,precision=20)}, fnew={fnew}\\n\")\n",
    "    \n",
    "    return iteration, xsol, fvalsol, xnew, fnew, grad, converged"
   ]
  },
  {
   "cell_type": "code",
   "execution_count": 117,
   "metadata": {},
   "outputs": [
    {
     "data": {
      "text/plain": [
       "(100, 3)"
      ]
     },
     "execution_count": 117,
     "metadata": {},
     "output_type": "execute_result"
    }
   ],
   "source": [
    "theta = 10\n",
    "pi = 2\n",
    "N = 5000\n",
    "\n",
    "x = np.array([1/3, 1/3])\n",
    "T = 100\n",
    "ret = ret_full[:T,:]\n",
    "ret.shape"
   ]
  },
  {
   "cell_type": "code",
   "execution_count": 118,
   "metadata": {
    "scrolled": true
   },
   "outputs": [
    {
     "name": "stdout",
     "output_type": "stream",
     "text": [
      "\n",
      "*** Done at iteration 232, converged True with final grad=[-9.860010124346230e-09  9.174532269963162e-09], and t=1, xnew=[0.7522351499706647  0.32162669776352154], fnew=0.08659522258699945\n",
      "\n"
     ]
    }
   ],
   "source": [
    "iteration, xsol, fvalsol, xnew, fnew, grad, converged = run_backtrack(theta, pi, ret, x, N)"
   ]
  },
  {
   "cell_type": "code",
   "execution_count": 112,
   "metadata": {},
   "outputs": [
    {
     "data": {
      "text/plain": [
       "(array([ 0.75223515,  0.3216267 , -0.07386185]), 0.08659522258699945)"
      ]
     },
     "execution_count": 112,
     "metadata": {},
     "output_type": "execute_result"
    }
   ],
   "source": [
    "np.append(xnew, [1-xnew.sum()]), fnew"
   ]
  },
  {
   "cell_type": "code",
   "execution_count": 113,
   "metadata": {},
   "outputs": [
    {
     "data": {
      "text/plain": [
       "<matplotlib.collections.PathCollection at 0x15a6a0ca0>"
      ]
     },
     "execution_count": 113,
     "metadata": {},
     "output_type": "execute_result"
    },
    {
     "data": {
      "image/png": "[encoded data removed]",
      "text/plain": [
       "<Figure size 640x480 with 1 Axes>"
      ]
     },
     "metadata": {},
     "output_type": "display_data"
    }
   ],
   "source": [
    "plt.scatter(xsol[:iteration+1,0], xsol[:iteration+1,1])"
   ]
  },
  {
   "cell_type": "code",
   "execution_count": 114,
   "metadata": {},
   "outputs": [
    {
     "data": {
      "text/plain": [
       "[<matplotlib.lines.Line2D at 0x15a6d9510>]"
      ]
     },
     "execution_count": 114,
     "metadata": {},
     "output_type": "execute_result"
    },
    {
     "data": {
      "image/png": "[encoded data removed]",
      "text/plain": [
       "<Figure size 640x480 with 1 Axes>"
      ]
     },
     "metadata": {},
     "output_type": "display_data"
    }
   ],
   "source": [
    "plt.plot(fvalsol[:iteration+1])"
   ]
  },
  {
   "cell_type": "code",
   "execution_count": null,
   "metadata": {},
   "outputs": [],
   "source": []
  },
  {
   "cell_type": "markdown",
   "metadata": {},
   "source": [
    "## momentum"
   ]
  },
  {
   "cell_type": "markdown",
   "metadata": {},
   "source": [
    "### <span style='color:red'>Task 2: Benchmark your portfolio on the remaining days</span>\n",
    "#### On each of the remaining days, we proceed as follows.  Denote by $x^*$ your portfolio. At the market open we invest $10^9 x^*_j$ on each asset $j$, and we close the position (by) noon.  You need to use the asset's price to compute the number of shares that you invest in, whether long or short. So the total you invest equals $$ \\sum_{j = 1}^n 10^9 |x^*_j|.$$\n",
    "#### Report the average return earned by your portfolio."
   ]
  },
  {
   "cell_type": "code",
   "execution_count": 102,
   "metadata": {},
   "outputs": [],
   "source": []
  },
  {
   "cell_type": "code",
   "execution_count": null,
   "metadata": {},
   "outputs": [],
   "source": []
  },
  {
   "cell_type": "code",
   "execution_count": null,
   "metadata": {},
   "outputs": [],
   "source": []
  }
 ],
 "metadata": {
  "kernelspec": {
   "display_name": "Python 3 (ipykernel)",
   "language": "python",
   "name": "python3"
  },
  "language_info": {
   "codemirror_mode": {
    "name": "ipython",
    "version": 3
   },
   "file_extension": ".py",
   "mimetype": "text/x-python",
   "name": "python",
   "nbconvert_exporter": "python",
   "pygments_lexer": "ipython3",
   "version": "3.10.9"
  }
 },
 "nbformat": 4,
 "nbformat_minor": 4
}
