{
 "cells": [
  {
   "cell_type": "markdown",
   "metadata": {},
   "source": [
    "# <span style='color:red'>Project 2.  Due October 23</span>"
   ]
  },
  {
   "cell_type": "code",
   "execution_count": 13,
   "metadata": {
    "scrolled": true
   },
   "outputs": [
    {
     "data": {
      "text/html": [
       "<style>.container { width: 90% !important; }</style>"
      ],
      "text/plain": [
       "<IPython.core.display.HTML object>"
      ]
     },
     "metadata": {},
     "output_type": "display_data"
    }
   ],
   "source": [
    "from IPython.core.display import display, HTML\n",
    "display(HTML(\"<style>.container { width: 90% !important; }</style>\"))"
   ]
  },
  {
   "cell_type": "markdown",
   "metadata": {},
   "source": [
    "### In this project we develop a first-order algorithm to construct a portfolio using intraday data."
   ]
  },
  {
   "cell_type": "code",
   "execution_count": 29,
   "metadata": {},
   "outputs": [],
   "source": [
    "import csv\n",
    "import sys\n",
    "import scipy.io\n",
    "import numpy as np\n",
    "import math\n",
    "import matplotlib.pyplot as plt\n",
    "import pandas as pd\n",
    "import datetime"
   ]
  },
  {
   "cell_type": "markdown",
   "metadata": {},
   "source": [
    "##### We will have data involving $n$ assets, and use the first $T$ days of the data to compute the portfolio.\n",
    "##### The computation will produce a weight $x_i$ for each asset $i = 1,...,n$, which could be long or short.\n",
    "##### We assume that on each day, a position is taken at the open, and closed at noon.  So we define:\n",
    "$$ p^o_{j,t} = \\ \\text{price of asset $j$ on day $t$ at the open}$$\n",
    "$$ p^1_{j,t} = \\ \\text{price of asset $j$ on day $t$ at noon}$$\n",
    "$$ r_{j,t} =  \\ \\frac{p^1_{j,t} - p^o_{j,t}}{p^o_{j,t}} = \\ \\text{return earned by asset $j$ on day $t$.}$$\n",
    "$$ \\bar r_j = \\ \\frac{1}{T} \\sum_{t = 1}^T r_{j,t} = \\ \\text{average return earned by asset $j$.}$$"
   ]
  },
  {
   "cell_type": "markdown",
   "metadata": {},
   "source": [
    "#### The optimization problem to solve depends on two parameters: $\\theta \\ge 0$ and $\\pi > 0 0$.\n",
    "####\n",
    "$$ \\text{minimize} \\ \\left(-\\sum_{j = 1}^n \\bar r_j x_j\\right) \\ + \\ \\theta \\left( \\frac{1}{T} \\sum_{t = 1}^{T}\\left[\\sum_{j = 1}^n (r_{j,t} -  \\bar r_j)x_j\\right]^\\pi\\right)^{1/\\pi}$$\n",
    "#### \n",
    "#### There are no constraints on the quantities $x_j$.\n",
    "#### The first sum is minus the average return earned by the portfolio.  In the second sum, the quantity inside the square brackets is the excess return earned by the portfolio on day $t$, magnified by the power $\\pi$.  The quantity $\\theta$ is a risk aversion parameter.\n",
    " "
   ]
  },
  {
   "cell_type": "code",
   "execution_count": 93,
   "metadata": {},
   "outputs": [
    {
     "data": {
      "text/plain": [
       "array([ 0.00033531, -0.00021261, -0.00071473])"
      ]
     },
     "metadata": {},
     "output_type": "display_data"
    },
    {
     "data": {
      "text/plain": [
       "array([[-2.71392669e-02,  8.63236670e-03,  1.80581875e-02],\n",
       "       [ 6.99256646e-03,  2.50697924e-02,  1.62621242e-02],\n",
       "       [ 1.06732948e-02, -1.17606365e-02,  1.63345355e-02],\n",
       "       [ 1.03029536e-02, -1.93530550e-03,  2.93487498e-02],\n",
       "       [-5.05077558e-03, -3.13390933e-03,  2.61749238e-02],\n",
       "       [ 2.07119700e-03, -5.18960630e-03, -2.12734437e-03],\n",
       "       [-6.00192061e-03,  1.39606654e-02,  3.11620056e-02],\n",
       "       [ 1.64062375e-02, -9.38454436e-03, -2.29971608e-02],\n",
       "       [-4.77545857e-03, -1.46062247e-02,  8.13550264e-03],\n",
       "       [-8.08332881e-03, -9.42857143e-03, -1.90932461e-02],\n",
       "       [-1.96905857e-03, -1.36706629e-03,  9.99207073e-04],\n",
       "       [ 1.78145960e-02, -1.60403498e-02, -1.08334789e-02],\n",
       "       [ 9.96914817e-03, -1.16297072e-02, -6.81750294e-03],\n",
       "       [ 2.98132271e-03, -1.01714724e-02, -2.03091774e-04],\n",
       "       [-1.31927704e-02, -1.96239674e-04,  2.06966739e-02],\n",
       "       [ 3.03385172e-03,  9.96910051e-03, -5.41619798e-03],\n",
       "       [-1.71075811e-02,  2.00980483e-02,  4.35067097e-03],\n",
       "       [ 7.53542822e-03, -5.21726440e-03,  3.43827160e-02],\n",
       "       [-2.84317529e-03,  3.04777895e-03, -2.37735399e-02],\n",
       "       [ 1.59824661e-02,  1.23418245e-02,  1.62741531e-02],\n",
       "       [-3.26470588e-04, -4.09732042e-03,  3.93644449e-02],\n",
       "       [-6.97158056e-03, -3.07993200e-02, -9.87383747e-03],\n",
       "       [-1.58230704e-03,  7.40472146e-03, -1.32578422e-02],\n",
       "       [ 4.46051838e-03, -1.49203299e-02,  1.59203686e-02],\n",
       "       [-1.27933357e-02, -9.51602545e-03, -6.34123065e-03],\n",
       "       [-3.13753884e-04,  3.35646663e-04, -8.47141190e-03],\n",
       "       [-1.19692065e-02, -7.25499756e-03, -4.23789794e-02],\n",
       "       [-4.71956474e-03,  9.56975177e-04, -1.14821854e-03],\n",
       "       [ 2.01353440e-03, -9.98178083e-03,  1.06540881e-02],\n",
       "       [-1.31317151e-03, -9.25335344e-03, -2.65468330e-02],\n",
       "       [ 1.53256470e-02,  1.16470899e-02,  4.96813981e-03],\n",
       "       [ 9.34969759e-03, -7.75745910e-03,  4.51426968e-03],\n",
       "       [-6.33627246e-03, -4.11898424e-03, -9.20920165e-03],\n",
       "       [-4.00703492e-03,  3.86923563e-03, -2.10615516e-02],\n",
       "       [ 3.19259089e-03,  2.72709514e-02,  1.09541069e-02],\n",
       "       [-5.28046764e-03,  1.42527182e-02,  2.12621278e-02],\n",
       "       [-9.23220085e-03, -5.29957392e-03, -3.16335709e-02],\n",
       "       [ 4.89967638e-03, -2.10061236e-02, -1.63824474e-02],\n",
       "       [-2.06526493e-03,  2.38090514e-04,  3.17653185e-02],\n",
       "       [-5.66257174e-03,  6.55071377e-03, -2.42695092e-02],\n",
       "       [-1.57395659e-02, -4.80872608e-03, -1.12858052e-02],\n",
       "       [ 3.18165466e-03,  2.13595656e-02, -3.40262067e-02],\n",
       "       [-2.51088529e-02,  8.03182421e-03, -9.09936792e-02],\n",
       "       [-5.83300411e-03, -6.79217423e-03, -2.82738095e-02],\n",
       "       [ 1.51581059e-02,  2.85829087e-03,  5.52384499e-02],\n",
       "       [-1.06019196e-02,  8.12888648e-03, -2.99387987e-02],\n",
       "       [ 7.33394611e-03, -1.20336943e-03, -1.13151322e-02],\n",
       "       [-2.80409665e-03,  7.24677066e-04,  2.15429598e-02],\n",
       "       [-7.77320232e-03,  5.61726494e-04,  1.30552080e-02],\n",
       "       [ 3.64007836e-03, -2.79887685e-03, -2.56826169e-03],\n",
       "       [ 1.75239900e-04, -1.72626900e-02,  1.51440166e-02],\n",
       "       [-7.51048049e-03,  1.27950219e-02, -1.57365584e-02],\n",
       "       [ 1.90753707e-04, -8.07465870e-03,  1.06081499e-02],\n",
       "       [ 9.16007738e-03, -7.63773749e-03,  2.71046151e-03],\n",
       "       [ 1.20481543e-02, -1.74816407e-02, -5.68055411e-03],\n",
       "       [-2.77551072e-03,  9.97283701e-03, -1.21257226e-02],\n",
       "       [-4.88788814e-03, -2.13225192e-02,  2.44534413e-02],\n",
       "       [-2.16639915e-03, -1.17291277e-02, -3.17557839e-02],\n",
       "       [ 5.16391672e-03,  2.57752321e-03, -1.14421311e-02],\n",
       "       [-5.71920185e-03, -7.30968435e-03,  3.48306430e-02],\n",
       "       [ 1.70844570e-02,  1.50509951e-03,  2.20546010e-02],\n",
       "       [ 1.30243751e-03, -1.34025281e-02, -1.85504367e-02],\n",
       "       [ 1.49753670e-02,  1.18563819e-02, -1.55722593e-02],\n",
       "       [ 4.66568289e-03, -1.08038535e-02,  3.47952157e-03],\n",
       "       [ 1.86642993e-02, -1.93566164e-02, -9.70852525e-04],\n",
       "       [-1.62977047e-04, -5.27962843e-03,  1.64110747e-02],\n",
       "       [ 1.39852302e-02, -1.67632743e-03, -2.69031781e-03],\n",
       "       [ 2.20033778e-03,  6.94099163e-03,  1.70930564e-02],\n",
       "       [ 5.58272233e-03, -1.04834535e-02,  3.78023274e-02],\n",
       "       [-9.92634628e-03,  2.92659557e-02, -1.65791223e-02],\n",
       "       [-3.97702689e-03, -5.47183315e-03, -1.17929635e-02],\n",
       "       [ 2.85925488e-03, -6.57289473e-03,  1.98655591e-03],\n",
       "       [-5.08293678e-03,  8.23314969e-03, -9.61458072e-03],\n",
       "       [-1.59673667e-02, -1.00717354e-03, -1.55806577e-03],\n",
       "       [ 4.06934279e-03,  5.91618735e-03,  2.99607462e-02],\n",
       "       [-8.43423800e-03,  1.33989181e-02, -1.31149742e-02],\n",
       "       [ 1.02130099e-03,  2.30993496e-02,  2.12715637e-02],\n",
       "       [ 3.17556410e-02, -4.90878016e-03, -6.66101604e-03],\n",
       "       [ 3.40270057e-03,  6.49143131e-03, -8.29293364e-03],\n",
       "       [ 1.22240078e-02, -8.24235700e-03, -2.61493101e-03],\n",
       "       [ 1.41112572e-02,  1.99481348e-03, -3.68858320e-02],\n",
       "       [-7.98676951e-03,  1.51536299e-03,  5.25724809e-02],\n",
       "       [-1.57435959e-02,  1.35368835e-02, -2.58767880e-02],\n",
       "       [ 1.59728562e-02, -5.31862014e-03, -2.72568620e-02],\n",
       "       [-1.38670695e-02,  3.35811176e-03, -1.16161096e-03],\n",
       "       [ 2.48881245e-03, -1.33465051e-02, -2.41418899e-02],\n",
       "       [-1.40667621e-02,  1.78814818e-02,  1.80740160e-02],\n",
       "       [-2.50681689e-02, -4.85033821e-03, -2.60133046e-02],\n",
       "       [-6.66983834e-03, -1.12478273e-02,  1.64276488e-02],\n",
       "       [ 1.59198357e-02, -9.13186658e-03, -1.84577523e-02],\n",
       "       [ 1.51026253e-02,  1.90770817e-03, -5.72121742e-02],\n",
       "       [ 1.36479751e-02,  6.53050562e-05, -1.32234244e-03],\n",
       "       [ 1.06573466e-02,  2.70314548e-02, -7.35033729e-03],\n",
       "       [-2.63749707e-02, -1.05622522e-02,  3.43310634e-02],\n",
       "       [ 7.85255713e-03, -4.03552888e-03,  1.02836112e-03],\n",
       "       [ 1.93093593e-03,  1.28551960e-02,  6.16180376e-03],\n",
       "       [ 2.17769763e-03,  9.33130668e-03, -1.81575564e-02],\n",
       "       [ 4.29100180e-03, -3.61681720e-03,  3.59133661e-02],\n",
       "       [ 1.00895615e-02,  2.02613065e-02, -1.51915781e-02],\n",
       "       [-1.05761785e-02,  9.43952223e-03,  2.88124959e-02]])"
      ]
     },
     "metadata": {},
     "output_type": "display_data"
    },
    {
     "name": "stdout",
     "output_type": "stream",
     "text": [
      "Obejective value test: 0.0007668345284937486\n"
     ]
    }
   ],
   "source": [
    "def OCfilter(dt: datetime.datetime):\n",
    "    return dt.time() == datetime.time(9,30) or dt.time() == datetime.time(12, 00)\n",
    "\n",
    "def dailyReturn(df):\n",
    "    dt = pd.to_datetime(df['Dates'])\n",
    "    filt = dt.apply(OCfilter)\n",
    "    df = df.loc[filt,'Close'].reset_index(drop=True).pct_change()\n",
    "    df = df[df.index%2==1]\n",
    "    return df\n",
    "\n",
    "def csvProcess(filename):\n",
    "    df = pd.read_csv(filename, low_memory=False,header=3)\n",
    "    df.loc[0,'Dates'] = df.loc[1,'Dates'].replace('31','30')\n",
    "    numactual = df.iloc[:, 6].astype(float).isna().argmax()\n",
    "    df = df.iloc[:numactual,:3]\n",
    "    df = dailyReturn(df)\n",
    "    return df\n",
    "\n",
    "def objective(x, ret, average, pi, theta):\n",
    "    term1 = -np.sum(average * x)\n",
    "    inner_sum = np.sum((ret - average) * x, axis=1)\n",
    "    term2 = np.power(np.mean(np.power(np.abs(inner_sum), pi)), 1/pi)\n",
    "    return term1 + theta * term2\n",
    "\n",
    "filename=['AMZN.csv','NFLX.csv','TSLA.csv']\n",
    "\n",
    "T = 100\n",
    "# Store daily return of 3 assets for first T days\n",
    "returnarray = np.zeros((T,3))\n",
    "for i in range(len(filename)):\n",
    "    returnarray[:,i] = csvProcess(filename[i])[:T]\n",
    "\n",
    "# Store average return for 3 assets for first T days\n",
    "average = np.zeros(3)\n",
    "for i in range(3):\n",
    "    average[i] = np.mean(returnarray[:,i])\n",
    "display(average,returnarray)\n",
    "\n",
    "# Initialize weight\n",
    "portfolio = [1 / 3, 1 / 3, 1 / 3]\n",
    "\n",
    "print('Obejective value test: '+ str(objective(portfolio,returnarray,average,0.5,0.1)))\n"
   ]
  },
  {
   "cell_type": "markdown",
   "metadata": {},
   "source": [
    "### <span style='color:red'> Task 1. Develop a first-order method to address this computational problem.</span>\n",
    "#### \n",
    "#### Your method should work with values of $T$ at least $100$. Use the data we provide for AMZN, NFLX, TSLA, i.e., $n = 3$. \n",
    "###\n",
    "#### Make sure your code works with $\\pi = 0.5, 2, 4, 6$, and $\\theta = 0.1, 10, 1000, 10^5, 10^6$."
   ]
  },
  {
   "cell_type": "markdown",
   "metadata": {},
   "source": [
    "### <span style='color:red'>Task 2: Benchmark your portfolio on the remaining days</span>\n",
    "#### On each of the remaining days, we proceed as follows.  Denote by $x^*$ your portfolio. At the market open we invest $10^9 x^*_j$ on each asset $j$, and we close the position (by) noon.  You need to use the asset's price to compute the number of shares that you invest in, whether long or short. So the total you invest equals $$ \\sum_{j = 1}^n 10^9 |x^*_j|.$$\n",
    "#### Report the average return earned by your portfolio."
   ]
  }
 ],
 "metadata": {
  "kernelspec": {
   "display_name": "Python 3 (ipykernel)",
   "language": "python",
   "name": "python3"
  },
  "language_info": {
   "codemirror_mode": {
    "name": "ipython",
    "version": 3
   },
   "file_extension": ".py",
   "mimetype": "text/x-python",
   "name": "python",
   "nbconvert_exporter": "python",
   "pygments_lexer": "ipython3",
   "version": "3.11.4"
  }
 },
 "nbformat": 4,
 "nbformat_minor": 4
}
